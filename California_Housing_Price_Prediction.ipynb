{
 "cells": [
  {
   "cell_type": "markdown",
   "metadata": {
    "id": "cgBuJug9fJVR"
   },
   "source": [
    "**California Housing Price Prediction**"
   ]
  },
  {
   "cell_type": "markdown",
   "metadata": {
    "id": "-PenheIFfQ3C"
   },
   "source": [
    "**1- Load the data :**"
   ]
  },
  {
   "cell_type": "code",
   "execution_count": 5,
   "metadata": {
    "id": "i8mV2g-qaqjD"
   },
   "outputs": [],
   "source": [
    "# Read the “housing.csv” file\n",
    "import pandas as pd\n",
    "Data = pd.read_csv('/content/drive/MyDrive/Colab Notebooks/housing.csv')"
   ]
  },
  {
   "cell_type": "code",
   "execution_count": 6,
   "metadata": {
    "colab": {
     "base_uri": "https://localhost:8080/"
    },
    "id": "Rs2okNOLfyOU",
    "outputId": "c23bd8db-8e29-41da-e774-408f02b7af61"
   },
   "outputs": [
    {
     "name": "stdout",
     "output_type": "stream",
     "text": [
      "   longitude  latitude  housing_median_age  total_rooms  total_bedrooms  \\\n",
      "0    -122.23     37.88                  41          880           129.0   \n",
      "1    -122.22     37.86                  21         7099          1106.0   \n",
      "2    -122.24     37.85                  52         1467           190.0   \n",
      "3    -122.25     37.85                  52         1274           235.0   \n",
      "4    -122.25     37.85                  52         1627           280.0   \n",
      "\n",
      "   population  households  median_income ocean_proximity  median_house_value  \n",
      "0         322         126         8.3252        NEAR BAY              452600  \n",
      "1        2401        1138         8.3014        NEAR BAY              358500  \n",
      "2         496         177         7.2574        NEAR BAY              352100  \n",
      "3         558         219         5.6431        NEAR BAY              341300  \n",
      "4         565         259         3.8462        NEAR BAY              342200  \n"
     ]
    }
   ],
   "source": [
    "# Print first few rows of this data\n",
    "print(Data.head())"
   ]
  },
  {
   "cell_type": "code",
   "execution_count": 7,
   "metadata": {
    "id": "_1JtBbDng87P"
   },
   "outputs": [],
   "source": [
    "# Extract input (X) and output (Y) data from the dataset\n",
    "\n",
    "X = Data.iloc[:, :-1].values\n",
    "Y = Data.iloc[:, [-1]].values"
   ]
  },
  {
   "cell_type": "markdown",
   "metadata": {
    "id": "RmZFIwCYhz5w"
   },
   "source": [
    "**2- Handle missing values :**"
   ]
  },
  {
   "cell_type": "code",
   "execution_count": 9,
   "metadata": {
    "id": "vPf3bYuCh3Eu"
   },
   "outputs": [],
   "source": [
    "# Fill the missing values with the mean of the respective column\n",
    "from sklearn.impute import SimpleImputer\n",
    "import numpy as np\n",
    "Imputer = SimpleImputer(missing_values=np.nan, strategy='mean')\n",
    "X[:, :-1] = Imputer.fit_transform(X[:, :-1])\n",
    "Y = Imputer.fit_transform(Y)"
   ]
  },
  {
   "cell_type": "markdown",
   "metadata": {
    "id": "in1KZ3-riwxU"
   },
   "source": [
    "**3- Encode categorical data :**"
   ]
  },
  {
   "cell_type": "code",
   "execution_count": 10,
   "metadata": {
    "id": "W4ykBk3Tisv7"
   },
   "outputs": [],
   "source": [
    "# Convert categorical column in the dataset to numerical data\n",
    "from sklearn.preprocessing import LabelEncoder\n",
    "X_labelencoder = LabelEncoder()\n",
    "X[:, -1] = X_labelencoder.fit_transform(X[:, -1])"
   ]
  },
  {
   "cell_type": "markdown",
   "metadata": {
    "id": "hlb-5zmZjCY2"
   },
   "source": [
    "**4- Split the dataset :**"
   ]
  },
  {
   "cell_type": "code",
   "execution_count": 12,
   "metadata": {
    "id": "F8HOBt-tjMO1"
   },
   "outputs": [],
   "source": [
    "# Split the data into 80% training dataset and 20% test dataset\n",
    "from sklearn.model_selection import train_test_split\n",
    "X_train, X_test, Y_train, Y_test = train_test_split(X, Y, test_size = 0.2, random_state = 0)"
   ]
  },
  {
   "cell_type": "markdown",
   "metadata": {
    "id": "1eqvXeELjbvp"
   },
   "source": [
    "**5- Standardize data :**"
   ]
  },
  {
   "cell_type": "code",
   "execution_count": 13,
   "metadata": {
    "id": "B4G9775UjdsU"
   },
   "outputs": [],
   "source": [
    "# Standardize training and test datasets\n",
    "from sklearn.preprocessing import StandardScaler\n",
    "scaler = StandardScaler()\n",
    "X_train = scaler.fit_transform(X_train)\n",
    "X_test = scaler.transform(X_test)\n",
    "Y_train = scaler.fit_transform(Y_train)\n",
    "Y_test = scaler.transform(Y_test)"
   ]
  },
  {
   "cell_type": "markdown",
   "metadata": {
    "id": "GnWhEL5djyvm"
   },
   "source": [
    "**6- Perform Linear Regression :**"
   ]
  },
  {
   "cell_type": "code",
   "execution_count": 14,
   "metadata": {
    "colab": {
     "base_uri": "https://localhost:8080/"
    },
    "id": "N0LVka0cjuJK",
    "outputId": "8257a36e-83b3-486d-f28b-9deb158414bf"
   },
   "outputs": [
    {
     "data": {
      "text/plain": [
       "LinearRegression()"
      ]
     },
     "execution_count": 14,
     "metadata": {},
     "output_type": "execute_result"
    }
   ],
   "source": [
    "# Perform Linear Regression on training data\n",
    "from sklearn.linear_model import LinearRegression\n",
    "linearRegression = LinearRegression()\n",
    "linearRegression.fit(X_train, Y_train)"
   ]
  },
  {
   "cell_type": "code",
   "execution_count": 15,
   "metadata": {
    "id": "Ozle9bOlkA4C"
   },
   "outputs": [],
   "source": [
    "# Predict output for test dataset using the fitted model\n",
    "predictionLinear = linearRegression.predict(X_test)"
   ]
  },
  {
   "cell_type": "code",
   "execution_count": 18,
   "metadata": {
    "colab": {
     "base_uri": "https://localhost:8080/"
    },
    "id": "PnkDSQD8kGHk",
    "outputId": "2f138a93-919b-43df-fd4d-4cf1c17d01b0"
   },
   "outputs": [
    {
     "name": "stdout",
     "output_type": "stream",
     "text": [
      "Root mean squared error (RMSE) from Linear Regression =  0.3643080104280694\n"
     ]
    }
   ],
   "source": [
    "#Print root mean squared error (RMSE) from Linear Regression [ HINT: Import mean_squared_error from sklearn.metrics ]\n",
    "from sklearn.metrics import mean_squared_error\n",
    "mseLinear = mean_squared_error(Y_test, predictionLinear)\n",
    "print('Root mean squared error (RMSE) from Linear Regression = ', mseLinear)"
   ]
  },
  {
   "cell_type": "markdown",
   "metadata": {
    "id": "eNPla5WKkxnh"
   },
   "source": [
    "**7- Perform Decision Tree Regression :**"
   ]
  },
  {
   "cell_type": "code",
   "execution_count": 19,
   "metadata": {
    "colab": {
     "base_uri": "https://localhost:8080/"
    },
    "id": "zCTRBTd3k0Iq",
    "outputId": "48015f34-7ebe-4a61-bf01-17be239412f5"
   },
   "outputs": [
    {
     "data": {
      "text/plain": [
       "DecisionTreeRegressor()"
      ]
     },
     "execution_count": 19,
     "metadata": {},
     "output_type": "execute_result"
    }
   ],
   "source": [
    "#Perform Decision Tree Regression on training data\n",
    "from sklearn.tree import DecisionTreeRegressor\n",
    "DecisionTreeR = DecisionTreeRegressor()\n",
    "DecisionTreeR.fit(X_train, Y_train)"
   ]
  },
  {
   "cell_type": "code",
   "execution_count": 20,
   "metadata": {
    "id": "P4peOD5kk8LE"
   },
   "outputs": [],
   "source": [
    "#Predict output for test dataset using the fitted model\n",
    "predictionDecisionTreeR = DecisionTreeR.predict(X_test)"
   ]
  },
  {
   "cell_type": "code",
   "execution_count": 21,
   "metadata": {
    "colab": {
     "base_uri": "https://localhost:8080/"
    },
    "id": "hV-XdSDok_QJ",
    "outputId": "f73653ca-8d1f-424f-c6ad-615b7b554b9b"
   },
   "outputs": [
    {
     "name": "stdout",
     "output_type": "stream",
     "text": [
      "Root mean squared error from Decision Tree Regression =  0.34145607397162697\n"
     ]
    }
   ],
   "source": [
    "#Print root mean squared error from Decision Tree Regression\n",
    "mseDecisionTreeR = mean_squared_error(Y_test, predictionDecisionTreeR)\n",
    "print('Root mean squared error from Decision Tree Regression = ', mseDecisionTreeR)"
   ]
  },
  {
   "cell_type": "markdown",
   "metadata": {
    "id": "-OKkI6lWluqh"
   },
   "source": [
    "**8- Perform Random Forest Regression :**"
   ]
  },
  {
   "cell_type": "code",
   "execution_count": 22,
   "metadata": {
    "colab": {
     "base_uri": "https://localhost:8080/"
    },
    "id": "itHsUe3zlxMt",
    "outputId": "fc220309-1f30-4f72-9434-5df58f28a160"
   },
   "outputs": [
    {
     "name": "stderr",
     "output_type": "stream",
     "text": [
      "/usr/local/lib/python3.7/dist-packages/ipykernel_launcher.py:4: DataConversionWarning: A column-vector y was passed when a 1d array was expected. Please change the shape of y to (n_samples,), for example using ravel().\n",
      "  after removing the cwd from sys.path.\n"
     ]
    },
    {
     "data": {
      "text/plain": [
       "RandomForestRegressor()"
      ]
     },
     "execution_count": 22,
     "metadata": {},
     "output_type": "execute_result"
    }
   ],
   "source": [
    "# Perform Random Forest Regression on training data\n",
    "from sklearn.ensemble import RandomForestRegressor\n",
    "RandomForestR = RandomForestRegressor()\n",
    "RandomForestR.fit(X_train, Y_train)"
   ]
  },
  {
   "cell_type": "code",
   "execution_count": 23,
   "metadata": {
    "id": "BUe-iIrEl1_7"
   },
   "outputs": [],
   "source": [
    "# Predict output for test dataset using the fitted model\n",
    "predictionRandomForestR = RandomForestR.predict(X_test)"
   ]
  },
  {
   "cell_type": "code",
   "execution_count": 24,
   "metadata": {
    "colab": {
     "base_uri": "https://localhost:8080/"
    },
    "id": "jInhVqx_l5Ks",
    "outputId": "534f9828-5180-4e79-dc9f-bd3163d6926e"
   },
   "outputs": [
    {
     "name": "stdout",
     "output_type": "stream",
     "text": [
      "Root mean squared error from Random Forest Regression =  0.17592214500111775\n"
     ]
    }
   ],
   "source": [
    "# Print RMSE (root mean squared error) from Random Forest Regression\n",
    "mseRandomForestR = mean_squared_error(Y_test, predictionRandomForestR)\n",
    "print('Root mean squared error from Random Forest Regression = ', mseRandomForestR)"
   ]
  },
  {
   "cell_type": "markdown",
   "metadata": {
    "id": "RPjsX8fUmlgm"
   },
   "source": [
    "**9- Bonus exercise: Perform Linear Regression with one independent variable :**"
   ]
  },
  {
   "cell_type": "code",
   "execution_count": 25,
   "metadata": {
    "id": "zbeTAAq3mev4"
   },
   "outputs": [],
   "source": [
    "# Extract just the median_income column from the independent variables (from X_train and X_test)\n",
    "X_train_median_income = X_train[: , [7]]\n",
    "X_test_median_income = X_test[: , [7]]"
   ]
  },
  {
   "cell_type": "code",
   "execution_count": 26,
   "metadata": {
    "colab": {
     "base_uri": "https://localhost:8080/"
    },
    "id": "5gmEF0YDmzHV",
    "outputId": "79df211e-0893-497f-937f-c610c770f7e0"
   },
   "outputs": [
    {
     "data": {
      "text/plain": [
       "LinearRegression()"
      ]
     },
     "execution_count": 26,
     "metadata": {},
     "output_type": "execute_result"
    }
   ],
   "source": [
    "# Perform Linear Regression to predict housing values based on median_income\n",
    "linearRegression2 = LinearRegression()\n",
    "linearRegression2.fit(X_train_median_income, Y_train)"
   ]
  },
  {
   "cell_type": "code",
   "execution_count": 27,
   "metadata": {
    "id": "iwhVaoN3m2iz"
   },
   "outputs": [],
   "source": [
    "# Predict output for test dataset using the fitted model\n",
    "predictionLinear2 = linearRegression2.predict(X_test_median_income)"
   ]
  },
  {
   "cell_type": "code",
   "execution_count": 29,
   "metadata": {
    "colab": {
     "base_uri": "https://localhost:8080/",
     "height": 296
    },
    "id": "4iyIu3x9m5o5",
    "outputId": "0c2ef80f-c524-47bd-b5e0-106407ae5691"
   },
   "outputs": [
    {
     "data": {
      "image/png": "[encoded data removed]",
      "text/plain": [
       "<Figure size 432x288 with 1 Axes>"
      ]
     },
     "metadata": {
      "needs_background": "light"
     },
     "output_type": "display_data"
    }
   ],
   "source": [
    "# Plot the fitted model for training data as well as for test data to check if the fitted model satisfies the test data\n",
    "import matplotlib.pyplot as plt\n",
    "\n",
    "# Training set\n",
    "plt.scatter(X_train_median_income, Y_train, color = 'green')\n",
    "plt.plot (X_train_median_income, linearRegression2.predict(X_train_median_income), color = 'red')\n",
    "plt.title ('Compare Training result - Median_Income / Median_house_value')\n",
    "plt.xlabel('Median_Income')\n",
    "plt.ylabel('Median_house_value')\n",
    "plt.show()"
   ]
  },
  {
   "cell_type": "code",
   "execution_count": 30,
   "metadata": {
    "colab": {
     "base_uri": "https://localhost:8080/",
     "height": 296
    },
    "id": "zR1ABQvgn5uH",
    "outputId": "3aadd75e-6c0a-4e5b-b3a6-e272e398b8ea"
   },
   "outputs": [
    {
     "data": {
      "image/png": "[encoded data removed]",
      "text/plain": [
       "<Figure size 432x288 with 1 Axes>"
      ]
     },
     "metadata": {
      "needs_background": "light"
     },
     "output_type": "display_data"
    }
   ],
   "source": [
    "# Testing set\n",
    "plt.scatter(X_test_median_income, Y_test, color = 'blue')\n",
    "plt.plot (X_train_median_income, linearRegression2.predict(X_train_median_income), color = 'red')\n",
    "plt.title ('Compare Testing result - Median_Income / Median_house_value')\n",
    "plt.xlabel('Median_Income')\n",
    "plt.ylabel('Median_house_value')\n",
    "plt.show()"
   ]
  }
 ],
 "metadata": {
  "colab": {
   "provenance": []
  },
  "kernelspec": {
   "display_name": "Python 3 (ipykernel)",
   "language": "python",
   "name": "python3"
  },
  "language_info": {
   "codemirror_mode": {
    "name": "ipython",
    "version": 3
   },
   "file_extension": ".py",
   "mimetype": "text/x-python",
   "name": "python",
   "nbconvert_exporter": "python",
   "pygments_lexer": "ipython3",
   "version": "3.9.7"
  }
 },
 "nbformat": 4,
 "nbformat_minor": 1
}
